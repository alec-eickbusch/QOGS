{
 "cells": [
  {
   "cell_type": "code",
   "execution_count": null,
   "metadata": {
    "tags": []
   },
   "outputs": [],
   "source": [
    "%load_ext autoreload\n",
    "%autoreload 2\n",
    "%matplotlib inline\n",
    "%config InlineBackend.figure_format = 'retina'\n",
    "\n",
    "# import os\n",
    "# os.environ[\"TF_GPU_ALLOCATOR\"]=\"cuda_malloc_async\" # this is highly important for totally utilizing your GPU's memory, but it also breaks the profiler's memory breakdown\n",
    "\n",
    "import numpy as np\n",
    "import qutip as qt \n",
    "from QOGS.optimizer.tf_adam_optimizer import AdamOptimizer\n",
    "from QOGS.gate_sets import SNAP_disp\n",
    "from QOGS.optimizer.GateSynthesizer import GateSynthesizer\n",
    "import matplotlib.pyplot as plt"
   ]
  },
  {
   "cell_type": "code",
   "execution_count": null,
   "metadata": {},
   "outputs": [],
   "source": [
    "#Optimization of ECD Circuit parameters (betas, phis, and thetas)\n",
    "N = 40\n",
    "# We initialize the ECDGateSet here\n",
    "gate_set_params = {\n",
    "    'N_cav' : N,\n",
    "    'N_snap' : 6,\n",
    "    'beta_scale' : 3.0\n",
    "}\n",
    "SNAP_gate_set = SNAP_disp(**gate_set_params)"
   ]
  },
  {
   "cell_type": "code",
   "execution_count": null,
   "metadata": {},
   "outputs": [],
   "source": [
    "# Setup the initial and final states of the X gate. This does not define a unitary, but the optimizer will find one that performs these transfers\n",
    "x = 1 / np.sqrt(2)\n",
    "\n",
    "# +Z -> -Z and vice-versa in code and error space\n",
    "pZ = x * (qt.basis(N, 0) + qt.basis(N, 4))\n",
    "mZ = qt.basis(N, 2)\n",
    "pZe = qt.basis(N, 3)\n",
    "mZe = qt.basis(N, 1)\n",
    "\n",
    "# |+> -> |+> and |i> -> |-i> in the code space\n",
    "plus = x * (pZ + mZ)\n",
    "i_state = x * (pZ + 1j * mZ)\n",
    "mi_state = x * (pZ - 1j * mZ)\n",
    "\n",
    "# |+> -> |+> and |i> -> |-i> in the error space\n",
    "plus_e = x * (pZe + mZe)\n",
    "i_state_e = x * (pZe + 1j * mZe)\n",
    "mi_state_e = x * (pZe - 1j * mZe)\n",
    "\n",
    "inits = [pZ, pZe, mZ, mZe, plus, plus_e]\n",
    "finals = [mZ, mZe, pZ, pZe, plus, plus_e]"
   ]
  },
  {
   "cell_type": "code",
   "execution_count": null,
   "metadata": {},
   "outputs": [],
   "source": [
    "#the optimization options\n",
    "synth_params = {\n",
    "    'gateset' : SNAP_gate_set,\n",
    "    'N_blocks': 6,\n",
    "    'N_multistart' : 500, #Batch size (number of circuit optimizations to run in parallel)\n",
    "    'epochs' : 500, #number of epochs before termination\n",
    "    'epoch_size' : 10, #number of adam steps per epoch\n",
    "    'learning_rate' : 0.01, #adam learning rate\n",
    "    'term_fid' : 0.995, #terminal fidelitiy\n",
    "    'dfid_stop' : 1e-6, #stop if dfid between two epochs is smaller than this number\n",
    "    'initial_states' : finals, #qubit tensor oscillator, start in |g> |0>\n",
    "    'target_states' : inits, #end in |e> |target>.\n",
    "    'name' : 'binomial X gate SNAP', #name for printing and saving\n",
    "    'filename' : None, #if no filename specified, results will be saved in this folder under 'name.h5'\n",
    "}\n",
    "gatesynth = GateSynthesizer(**synth_params)"
   ]
  },
  {
   "cell_type": "code",
   "execution_count": null,
   "metadata": {},
   "outputs": [],
   "source": [
    "#create optimization object. \n",
    "#initial params will be randomized upon creation\n",
    "opt = AdamOptimizer(gatesynth)\n",
    "\n",
    "#print optimization info. this lives in gatesynth, since we eventually want to fully abstract away the optimizer\n",
    "gatesynth.print_info()"
   ]
  },
  {
   "cell_type": "code",
   "execution_count": null,
   "metadata": {},
   "outputs": [],
   "source": [
    "#run optimizer.\n",
    "#note the optimizer can be stopped at any time by interrupting the python consle,\n",
    "#and the optimization results will still be saved and part of the opt object.\n",
    "#This allows you to stop the optimization whenever you want and still use the result.\n",
    "opt.optimize()"
   ]
  },
  {
   "cell_type": "code",
   "execution_count": null,
   "metadata": {},
   "outputs": [],
   "source": [
    "#can print info, including the best circuit found.\n",
    "gatesynth.print_info() "
   ]
  },
  {
   "cell_type": "code",
   "execution_count": null,
   "metadata": {},
   "outputs": [],
   "source": [
    "print(gatesynth.best_fidelity())"
   ]
  },
  {
   "cell_type": "code",
   "execution_count": null,
   "metadata": {},
   "outputs": [],
   "source": [
    "#can also get the best circuit parameters directly, could save this to a .npz file.\n",
    "best_circuit =  gatesynth.best_circuit()\n",
    "betas = best_circuit['betas']\n",
    "thetas = best_circuit['thetas']\n",
    "print(best_circuit)"
   ]
  },
  {
   "cell_type": "code",
   "execution_count": null,
   "metadata": {},
   "outputs": [],
   "source": []
  }
 ],
 "metadata": {
  "interpreter": {
   "hash": "3e13ed3432761fc59a4a9b457fbf3f96074750791754ae943b7a2ec348e7309f"
  },
  "kernelspec": {
   "display_name": "Python 3 (ipykernel)",
   "language": "python",
   "name": "python3"
  },
  "language_info": {
   "codemirror_mode": {
    "name": "ipython",
    "version": 3
   },
   "file_extension": ".py",
   "mimetype": "text/x-python",
   "name": "python",
   "nbconvert_exporter": "python",
   "pygments_lexer": "ipython3",
   "version": "3.9.7"
  }
 },
 "nbformat": 4,
 "nbformat_minor": 4
}
