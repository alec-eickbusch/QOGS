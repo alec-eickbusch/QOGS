{
 "cells": [
  {
   "cell_type": "code",
   "execution_count": null,
   "metadata": {
    "tags": []
   },
   "outputs": [],
   "source": [
    "%load_ext autoreload\n",
    "%autoreload 2\n",
    "%matplotlib inline\n",
    "%config InlineBackend.figure_format = 'retina'\n",
    "\n",
    "# import os\n",
    "# os.environ[\"TF_GPU_ALLOCATOR\"]=\"cuda_malloc_async\" # this seems to be highly important for totally utilizing your GPU's memory, but it also breaks the profiler's memory breakdown\n",
    "# note that GradientTape needs several times the memory needed to compute the fidelity of a single circuit\n",
    "import tensorflow as tf\n",
    "import numpy as np\n",
    "import qutip as qt\n",
    "from QOGS.optimizer.tf_adam_optimizer import AdamOptimizer\n",
    "from QOGS.gate_sets import GRAPE\n",
    "import matplotlib.pyplot as plt"
   ]
  },
  {
   "cell_type": "code",
   "execution_count": null,
   "metadata": {},
   "outputs": [],
   "source": [
    "q_dim = 4\n",
    "c_dim = 10\n",
    "DAC_time_resolution = 1\n",
    "fock = 1\n",
    "\n",
    "# In GHz = cycles / ns\n",
    "anharm = -.180\n",
    "kerr = -1e-5\n",
    "chi = -4e-3\n",
    "drive = D = 2 * np.pi * 1e-3\n",
    "\n",
    "a = qt.tensor(qt.destroy(c_dim), qt.qeye(q_dim))\n",
    "b = qt.tensor(qt.qeye(c_dim), qt.destroy(q_dim))\n",
    "gf = qt.tensor(qt.qeye(c_dim), qt.basis(q_dim, 0) * qt.basis(q_dim, 2).dag())\n",
    "fg = gf.dag()\n",
    "ad = a.dag()\n",
    "bd = b.dag()\n",
    "H0 = (anharm/2) * bd * bd * b * b\n",
    "H0 += (kerr/2) * ad * ad * a * a\n",
    "H0 += (chi) * ad * a * bd * b\n",
    "H0 *= 2*np.pi\n",
    "Hcs = [D*(b + bd), 1j*D*(b - bd), D*(a + ad), 1j*D*(a - ad)] # I, Q, I, Q\n",
    "\n",
    "init_states = [\n",
    "    qt.tensor(qt.basis(c_dim, 0), qt.basis(q_dim, 0))\n",
    "]\n",
    "\n",
    "final_states = [\n",
    "    qt.tensor(qt.basis(c_dim, fock), qt.basis(q_dim, 0))\n",
    "]"
   ]
  },
  {
   "cell_type": "code",
   "execution_count": null,
   "metadata": {},
   "outputs": [],
   "source": [
    "q_dim = 3\n",
    "c_dim = 10\n",
    "DAC_time_resolution = 1 # in ns\n",
    "fock = 1\n",
    "\n",
    "# In GHz = cycles / ns\n",
    "anharm = -.180\n",
    "kerr = -1e-5\n",
    "chi = -2e-3\n",
    "drive = D = 2 * np.pi * 1e-3\n",
    "\n",
    "a = qt.tensor(qt.destroy(c_dim), qt.qeye(q_dim))\n",
    "b = qt.tensor(qt.qeye(c_dim), qt.destroy(q_dim))\n",
    "gf = qt.tensor(qt.qeye(c_dim), qt.basis(q_dim, 0) * qt.basis(q_dim, 2).dag())\n",
    "fg = gf.dag()\n",
    "# hh = qt.tensor(qt.qeye(c_dim), qt.basis(q_dim, 3) * qt.basis(q_dim, 3).dag())\n",
    "ad = a.dag()\n",
    "bd = b.dag()\n",
    "# H0 = (anharm/2) * bd * bd * b * b\n",
    "# H0 = (3 * anharm) * hh\n",
    "H0 = (kerr/2) * ad * ad * a * a\n",
    "H0 += (chi) * ad * a * bd * b\n",
    "H0 *= 2*np.pi\n",
    "Hcs = [D*(gf + fg), 1j*D*(gf - fg), D*(a + ad), 1j*D*(a - ad)]\n",
    "\n",
    "init_states = [\n",
    "    qt.tensor(qt.basis(c_dim, 0), qt.basis(q_dim, 0))\n",
    "]\n",
    "\n",
    "final_states = [\n",
    "    qt.tensor(qt.basis(c_dim, fock), qt.basis(q_dim, 0))\n",
    "]"
   ]
  },
  {
   "cell_type": "code",
   "execution_count": null,
   "metadata": {},
   "outputs": [],
   "source": [
    "synth_params = {\n",
    "    'N_blocks': 251, # note that the length of the pulse is this times the DAC_time_resolution\n",
    "    'N_multistart' : 60, #Batch size (number of circuit optimizations to run in parallel)\n",
    "    'epochs' : 600, #number of epochs before termination\n",
    "    'epoch_size' : 5, #number of adam steps per epoch\n",
    "    'learning_rate' : 0.1, #adam learning rate\n",
    "    'term_fid' : 0.999, #0.995, #terminal fidelitiy\n",
    "    'dfid_stop' : 1e-6, #stop if dfid between two epochs is smaller than this number\n",
    "    'initial_states' : init_states, #qubit tensor oscillator, start in |g> |0>\n",
    "    'target_states' : final_states, #end in |e> |target>.\n",
    "    'name' : 'GRAPE Fock %d' % fock, #name for printing and saving\n",
    "    'use_phase' : True,\n",
    "    'filename' : None, #if no filename specified, results will be saved in this folder under 'name.h5'\n",
    "}\n",
    "\n",
    "# We initialize the gateset here\n",
    "gate_set_params = {\n",
    "    'H_static' : H0,\n",
    "    'H_control' : Hcs,\n",
    "    'DAC_delta_t' : DAC_time_resolution,\n",
    "    'inplace' : False, # true uses less memory, but is slower. Just use false\n",
    "    'scale' : 1.0, # range of DAC amplitudes for initial random waves\n",
    "    'bandwidth' : 0.1, # 0.1 for ge, 0.2 for gf\n",
    "    'gatesynthargs': synth_params\n",
    "}\n",
    "\n",
    "\n",
    "\n",
    "GRAPE_gate_set = GRAPE(**gate_set_params)"
   ]
  },
  {
   "cell_type": "code",
   "execution_count": null,
   "metadata": {},
   "outputs": [],
   "source": [
    "#create optimization object. \n",
    "#initial params will be randomized upon creation\n",
    "opt = AdamOptimizer(GRAPE_gate_set)\n",
    "\n",
    "#print optimization info. this lives in gatesynth, since we eventually want to fully abstract away the optimizer\n",
    "GRAPE_gate_set.best_fidelity()"
   ]
  },
  {
   "cell_type": "code",
   "execution_count": null,
   "metadata": {},
   "outputs": [],
   "source": [
    "#run optimizer.\n",
    "#note the optimizer can be stopped at any time by interrupting the python consle,\n",
    "#and the optimization results will still be saved and part of the opt object.\n",
    "#This allows you to stop the optimization whenever you want and still use the result.\n",
    "# Note that you will not want to use the performance profiler while using 'inplace' mode. You will run out of memory\n",
    "opt.optimize()#logdir='logs')"
   ]
  },
  {
   "cell_type": "code",
   "execution_count": null,
   "metadata": {},
   "outputs": [],
   "source": [
    "GRAPE_gate_set.print_info()"
   ]
  },
  {
   "cell_type": "code",
   "execution_count": null,
   "metadata": {},
   "outputs": [],
   "source": [
    "# Load the TensorBoard notebook extension.\n",
    "%load_ext tensorboard"
   ]
  },
  {
   "cell_type": "code",
   "execution_count": null,
   "metadata": {},
   "outputs": [],
   "source": [
    "# Launch TensorBoard and navigate to the Profile tab to view performance profile\n",
    "%tensorboard --logdir=logs"
   ]
  },
  {
   "cell_type": "code",
   "execution_count": null,
   "metadata": {},
   "outputs": [],
   "source": [
    "GRAPE.get_IQ_time_series"
   ]
  },
  {
   "cell_type": "code",
   "execution_count": null,
   "metadata": {},
   "outputs": [],
   "source": [
    "import h5py\n",
    "f = h5py.File('/workspaces/QOGS/examples/GRAPE Fock 1.h5', 'r')\n",
    "pulse_obj = f[list(f.keys())[len(list(f.keys())) - 1]] # get the latest key\n",
    "# pulse_obj = f['2022-06-08 18:42:44']\n",
    "list(f.keys())"
   ]
  },
  {
   "cell_type": "code",
   "execution_count": null,
   "metadata": {},
   "outputs": [],
   "source": [
    "fids = pulse_obj['fidelities']\n",
    "fids.shape\n",
    "pulse_idx = np.argmax(np.amax(fids, axis=0))"
   ]
  },
  {
   "cell_type": "code",
   "execution_count": null,
   "metadata": {},
   "outputs": [],
   "source": [
    "test = GRAPE_gate_set.get_IQ_time_series(pulse_obj['I_DC1'][-1, :,:].T, pulse_obj['I_real1'][-1, :,:].T,\n",
    "                            pulse_obj['I_imag1'][-1, :,:].T,\n",
    "                            pulse_obj['Q_DC1'][-1, :,:], pulse_obj['Q_real1'][-1, :,:].T,\n",
    "                            pulse_obj['Q_imag1'][-1, :,:].T)"
   ]
  },
  {
   "cell_type": "code",
   "execution_count": null,
   "metadata": {},
   "outputs": [],
   "source": [
    "zeros = np.zeros((301), dtype=np.complex64)\n",
    "zeros[1] = (1-1j)\n",
    "zeros[-1] = (1+1j)\n",
    "zeros[10] = (1+1j) * 1j\n",
    "zeros[-10] = (1-1j) * 1j\n",
    "boring = tf.constant(zeros, dtype=tf.complex64)\n",
    "\n",
    "# plt.plot(test[0:50, :])\n",
    "plt.plot(tf.signal.ifft(zeros).numpy().real)\n",
    "plt.plot(tf.signal.ifft(zeros).numpy().imag)\n",
    "# plt.plot(tf.signal.fft(tf.signal.ifft(zeros)).numpy().real)\n",
    "# plt.plot(np.fft.ifft(zeros).real)\n",
    "# plt.plot(np.fft.ifft(zeros).imag)"
   ]
  },
  {
   "cell_type": "code",
   "execution_count": null,
   "metadata": {},
   "outputs": [],
   "source": []
  }
 ],
 "metadata": {
  "interpreter": {
   "hash": "916dbcbb3f70747c44a77c7bcd40155683ae19c65e1c03b4aa3499c5328201f1"
  },
  "kernelspec": {
   "display_name": "Python 3.8.10 64-bit",
   "language": "python",
   "name": "python3"
  },
  "language_info": {
   "codemirror_mode": {
    "name": "ipython",
    "version": 3
   },
   "file_extension": ".py",
   "mimetype": "text/x-python",
   "name": "python",
   "nbconvert_exporter": "python",
   "pygments_lexer": "ipython3",
   "version": "3.8.10"
  }
 },
 "nbformat": 4,
 "nbformat_minor": 4
}
