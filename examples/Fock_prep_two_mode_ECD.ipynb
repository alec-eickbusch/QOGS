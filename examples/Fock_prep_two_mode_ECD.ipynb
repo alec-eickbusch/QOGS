{
 "cells": [
  {
   "cell_type": "code",
   "execution_count": 1,
   "metadata": {
    "tags": []
   },
   "outputs": [
    {
     "name": "stdout",
     "output_type": "stream",
     "text": [
      "\n",
      "Need tf version 2.3.0 or later. Using tensorflow version: 2.5.0-rc2\n",
      "\n"
     ]
    }
   ],
   "source": [
    "%load_ext autoreload\n",
    "%autoreload 2\n",
    "%matplotlib inline\n",
    "%config InlineBackend.figure_format = 'retina'\n",
    "\n",
    "import numpy as np\n",
    "import qutip as qt \n",
    "from QOGS.optimizer.tf_adam_optimizer import AdamOptimizer\n",
    "from QOGS.gate_sets import TwoModeECDGateSet\n",
    "from QOGS.optimizer.GateSynthesizer import GateSynthesizer\n",
    "import matplotlib.pyplot as plt\n",
    "from tensorflow.python.client import device_lib\n",
    "# device_lib.list_local_devices()"
   ]
  },
  {
   "cell_type": "code",
   "execution_count": 51,
   "metadata": {},
   "outputs": [],
   "source": [
    "#Optimization of ECD Circuit parameters (betas, phis, and thetas)\n",
    "N = 25\n",
    "# We initialize the ECDGateSet here\n",
    "gate_set_params = {\n",
    "    'N_cav' : N,\n",
    "    'beta_scale' : 3.0, #maximum |beta| for random initialization  \n",
    "}\n",
    "two_mode_ECD_gate_set = TwoModeECDGateSet(**gate_set_params)"
   ]
  },
  {
   "cell_type": "code",
   "execution_count": 53,
   "metadata": {},
   "outputs": [],
   "source": [
    "#The target oscillator state.\n",
    "fock = 1\n",
    "psi_t = qt.tensor(qt.basis(N,fock), qt.basis(N,0)) #target state"
   ]
  },
  {
   "cell_type": "code",
   "execution_count": 54,
   "metadata": {},
   "outputs": [],
   "source": [
    "#the optimization options\n",
    "synth_params = {\n",
    "    'gateset' : two_mode_ECD_gate_set,\n",
    "    'N_blocks':6,\n",
    "    'N_multistart' : 5, #Batch size (number of circuit optimizations to run in parallel)\n",
    "    'epochs' : 100, #number of epochs before termination\n",
    "    'epoch_size' : 10, #number of adam steps per epoch\n",
    "    'learning_rate' : 0.01, #adam learning rate\n",
    "    'term_fid' : 0.995, #terminal fidelitiy\n",
    "    'dfid_stop' : 1e-6, #stop if dfid between two epochs is smaller than this number\n",
    "    'beta_scale' : 1.0, #maximum |beta| for random initialization\n",
    "    'initial_states' : [qt.tensor(qt.basis(2,0),qt.basis(N,0), qt.basis(N,0))], #qubit tensor oscillator, start in |g> |0>\n",
    "    'target_states' : [qt.tensor(qt.basis(2,1), psi_t)], #end in |e> |target>.\n",
    "    'name' : 'Fock %d' % fock, #name for printing and saving\n",
    "    'filename' : None, #if no filename specified, results will be saved in this folder under 'name.h5'\n",
    "}\n",
    "gatesynth = GateSynthesizer(**synth_params)"
   ]
  },
  {
   "cell_type": "code",
   "execution_count": 55,
   "metadata": {},
   "outputs": [
    {
     "name": "stdout",
     "output_type": "stream",
     "text": [
      "(6, 5, 25, 25)\n",
      "(6, 5, 25, 25)\n",
      "(6, 5, 25, 25)\n",
      "(6, 5, 25, 25)\n",
      "N_blocks: 6\n",
      "optimization_type: state transfer\n",
      "optimization_masks: {'betas_rho_a': None, 'betas_rho_b': None, 'betas_angle_a': None, 'betas_angle_b': None, 'phis': None, 'etas': None, 'thetas': None}\n",
      "target_unitary: None\n",
      "expectation_operators: None\n",
      "target_expectation_values: None\n",
      "N_multistart: 5\n",
      "term_fid: 0.995\n",
      "dfid_stop: 1e-06\n",
      "learning_rate: 0.01\n",
      "epoch_size: 10\n",
      "epochs: 100\n",
      "name: Fock 1\n",
      "filename: None\n",
      "comment: \n",
      "use_phase: False\n",
      "timestamps: []\n",
      "do_prints: True\n",
      "beta_scale: 1.0\n",
      "filename: Fock 1.h5\n",
      "\n",
      "Best circuit parameters found:\n",
      "betas_a:    tf.Tensor(\n",
      "[ 0.67354+0.38736j  2.19213-0.02539j -0.72955-1.23603j -1.30441-0.35424j\n",
      " -0.50907-0.45095j -2.33371+1.0207j ], shape=(6,), dtype=complex64)\n",
      "betas_b:    tf.Tensor(\n",
      "[ 1.24117-1.45274j -0.05917+0.43734j -0.71336+0.87766j -1.21778-2.08374j\n",
      "  1.35469-1.52511j  0.46791-0.58214j], shape=(6,), dtype=complex64)\n",
      "phis:    tf.Tensor([ 1.37122 -0.87407  2.88826 -1.12393 -2.55464 -0.14928], shape=(6,), dtype=float32)\n",
      "etas:    tf.Tensor([ 1.62436 -0.69625 -0.30775  0.46105  1.57603 -0.31749], shape=(6,), dtype=float32)\n",
      "thetas:    tf.Tensor([-0.74392  3.08709 -2.05983  1.33343 -0.22683  0.46541], shape=(6,), dtype=float32)\n",
      "\n",
      " Best circuit Fidelity: 0.000021\n",
      "\n",
      "\n"
     ]
    }
   ],
   "source": [
    "#create optimization object. \n",
    "#initial params will be randomized upon creation\n",
    "opt = AdamOptimizer(gatesynth)\n",
    "\n",
    "#print optimization info. this lives in gatesynth, since we eventually want to fully abstract away the optimizer\n",
    "gatesynth.print_info()"
   ]
  },
  {
   "cell_type": "code",
   "execution_count": 56,
   "metadata": {},
   "outputs": [
    {
     "name": "stdout",
     "output_type": "stream",
     "text": [
      "Start time: 2022-03-08 21:20:56\n",
      " Epoch: 0 / 100 Max Fid: 0.000021 Avg Fid: 0.000005 Max dFid: 0.000000 Avg dFid: 0.000000 Elapsed time: 0:00:01.854842 Expected remaining time: 0:00:00(6, 5, 25, 25)\n",
      "(6, 5, 25, 25)\n",
      "(6, 5, 25, 25)\n",
      "(6, 5, 25, 25)\n",
      " Epoch: 1 / 100 Max Fid: 0.000116 Avg Fid: 0.000029 Max dFid: 0.000095 Avg dFid: 0.000023 Elapsed time: 0:00:58.189708 Expected remaining time: 1:36:00.781115"
     ]
    }
   ],
   "source": [
    "#run optimizer.\n",
    "#note the optimizer can be stopped at any time by interrupting the python consle,\n",
    "#and the optimization results will still be saved and part of the opt object.\n",
    "#This allows you to stop the optimization whenever you want and still use the result.\n",
    "opt.optimize()"
   ]
  },
  {
   "cell_type": "code",
   "execution_count": null,
   "metadata": {},
   "outputs": [],
   "source": [
    "#can print info, including the best circuit found.\n",
    "gatesynth.print_info() "
   ]
  },
  {
   "cell_type": "code",
   "execution_count": null,
   "metadata": {},
   "outputs": [],
   "source": [
    "print(gatesynth.best_fidelity())"
   ]
  },
  {
   "cell_type": "code",
   "execution_count": null,
   "metadata": {},
   "outputs": [],
   "source": [
    "#can also get the best circuit parameters directly, could save this to a .npz file.\n",
    "best_circuit =  gatesynth.best_circuit()\n",
    "betas = best_circuit['betas']\n",
    "phis = best_circuit['phis']\n",
    "thetas = best_circuit['thetas']\n",
    "print(best_circuit)"
   ]
  }
 ],
 "metadata": {
  "interpreter": {
   "hash": "3e13ed3432761fc59a4a9b457fbf3f96074750791754ae943b7a2ec348e7309f"
  },
  "kernelspec": {
   "display_name": "Python 3 (ipykernel)",
   "language": "python",
   "name": "python3"
  },
  "language_info": {
   "codemirror_mode": {
    "name": "ipython",
    "version": 3
   },
   "file_extension": ".py",
   "mimetype": "text/x-python",
   "name": "python",
   "nbconvert_exporter": "python",
   "pygments_lexer": "ipython3",
   "version": "3.9.5"
  }
 },
 "nbformat": 4,
 "nbformat_minor": 4
}
